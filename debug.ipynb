{
 "cells": [
  {
   "cell_type": "code",
   "execution_count": 3,
   "metadata": {},
   "outputs": [],
   "source": [
    "import numpy as np\n",
    "import pybamm\n",
    "import matplotlib.pyplot as plt"
   ]
  },
  {
   "cell_type": "code",
   "execution_count": 4,
   "metadata": {},
   "outputs": [],
   "source": [
    "model = pybamm.lithium_ion.DFN()\n",
    "params = pybamm.ParameterValues(\"Chen2020\")"
   ]
  },
  {
   "cell_type": "code",
   "execution_count": 5,
   "metadata": {},
   "outputs": [
    {
     "data": {
      "text/plain": [
       "{'1 + dlnf/dlnc': 1.0,\n",
       " 'Ambient temperature [K]': 298.15,\n",
       " 'Bulk solvent concentration [mol.m-3]': 2636.0,\n",
       " 'Cation transference number': 0.2594,\n",
       " 'Cell cooling surface area [m2]': 0.00531,\n",
       " 'Cell volume [m3]': 2.42e-05,\n",
       " 'Current function [A]': 5.0,\n",
       " 'EC diffusivity [m2.s-1]': 2e-18,\n",
       " 'EC initial concentration in electrolyte [mol.m-3]': 4541.0,\n",
       " 'Electrode height [m]': 0.065,\n",
       " 'Electrode width [m]': 1.58,\n",
       " 'Electrolyte conductivity [S.m-1]': <function electrolyte_conductivity_Nyman2008 at 0x0000023B5901A820>,\n",
       " 'Electrolyte diffusivity [m2.s-1]': <function electrolyte_diffusivity_Nyman2008 at 0x0000023B5901A940>,\n",
       " 'Initial concentration in electrolyte [mol.m-3]': 1000.0,\n",
       " 'Initial concentration in negative electrode [mol.m-3]': 29866.0,\n",
       " 'Initial concentration in positive electrode [mol.m-3]': 17038.0,\n",
       " 'Initial inner SEI thickness [m]': 2.5e-09,\n",
       " 'Initial outer SEI thickness [m]': 2.5e-09,\n",
       " 'Initial temperature [K]': 298.15,\n",
       " 'Inner SEI electron conductivity [S.m-1]': 8.95e-14,\n",
       " 'Inner SEI lithium interstitial diffusivity [m2.s-1]': 1e-20,\n",
       " 'Inner SEI open-circuit potential [V]': 0.1,\n",
       " 'Inner SEI partial molar volume [m3.mol-1]': 9.585e-05,\n",
       " 'Inner SEI reaction proportion': 0.5,\n",
       " 'Lithium interstitial reference concentration [mol.m-3]': 15.0,\n",
       " 'Lower voltage cut-off [V]': 2.5,\n",
       " 'Maximum concentration in negative electrode [mol.m-3]': 33133.0,\n",
       " 'Maximum concentration in positive electrode [mol.m-3]': 63104.0,\n",
       " 'Negative current collector conductivity [S.m-1]': 58411000.0,\n",
       " 'Negative current collector density [kg.m-3]': 8960.0,\n",
       " 'Negative current collector specific heat capacity [J.kg-1.K-1]': 385.0,\n",
       " 'Negative current collector thermal conductivity [W.m-1.K-1]': 401.0,\n",
       " 'Negative current collector thickness [m]': 1.2e-05,\n",
       " 'Negative electrode Bruggeman coefficient (electrode)': 1.5,\n",
       " 'Negative electrode Bruggeman coefficient (electrolyte)': 1.5,\n",
       " 'Negative electrode OCP [V]': <function graphite_LGM50_ocp_Chen2020 at 0x0000023B5901A8B0>,\n",
       " 'Negative electrode OCP entropic change [V.K-1]': 0.0,\n",
       " 'Negative electrode active material volume fraction': 0.75,\n",
       " 'Negative electrode cation signed stoichiometry': -1.0,\n",
       " 'Negative electrode charge transfer coefficient': 0.5,\n",
       " 'Negative electrode conductivity [S.m-1]': 215.0,\n",
       " 'Negative electrode density [kg.m-3]': 1657.0,\n",
       " 'Negative electrode diffusivity [m2.s-1]': 3.3e-14,\n",
       " 'Negative electrode double-layer capacity [F.m-2]': 0.2,\n",
       " 'Negative electrode electrons in reaction': 1.0,\n",
       " 'Negative electrode exchange-current density [A.m-2]': <function graphite_LGM50_electrolyte_exchange_current_density_Chen2020 at 0x0000023B5901AEE0>,\n",
       " 'Negative electrode porosity': 0.25,\n",
       " 'Negative electrode reaction-driven LAM factor [m3.mol-1]': 0.0,\n",
       " 'Negative electrode specific heat capacity [J.kg-1.K-1]': 700.0,\n",
       " 'Negative electrode thermal conductivity [W.m-1.K-1]': 1.7,\n",
       " 'Negative electrode thickness [m]': 8.52e-05,\n",
       " 'Negative particle radius [m]': 5.86e-06,\n",
       " 'Nominal cell capacity [A.h]': 5.0,\n",
       " 'Number of cells connected in series to make a battery': 1.0,\n",
       " 'Number of electrodes connected in parallel to make a cell': 1.0,\n",
       " 'Outer SEI open-circuit potential [V]': 0.8,\n",
       " 'Outer SEI partial molar volume [m3.mol-1]': 9.585e-05,\n",
       " 'Outer SEI solvent diffusivity [m2.s-1]': 2.5000000000000002e-22,\n",
       " 'Positive current collector conductivity [S.m-1]': 36914000.0,\n",
       " 'Positive current collector density [kg.m-3]': 2700.0,\n",
       " 'Positive current collector specific heat capacity [J.kg-1.K-1]': 897.0,\n",
       " 'Positive current collector thermal conductivity [W.m-1.K-1]': 237.0,\n",
       " 'Positive current collector thickness [m]': 1.6e-05,\n",
       " 'Positive electrode Bruggeman coefficient (electrode)': 1.5,\n",
       " 'Positive electrode Bruggeman coefficient (electrolyte)': 1.5,\n",
       " 'Positive electrode OCP [V]': <function nmc_LGM50_ocp_Chen2020 at 0x0000023B5901ADC0>,\n",
       " 'Positive electrode OCP entropic change [V.K-1]': 0.0,\n",
       " 'Positive electrode active material volume fraction': 0.665,\n",
       " 'Positive electrode cation signed stoichiometry': -1.0,\n",
       " 'Positive electrode charge transfer coefficient': 0.5,\n",
       " 'Positive electrode conductivity [S.m-1]': 0.18,\n",
       " 'Positive electrode density [kg.m-3]': 3262.0,\n",
       " 'Positive electrode diffusivity [m2.s-1]': 4e-15,\n",
       " 'Positive electrode double-layer capacity [F.m-2]': 0.2,\n",
       " 'Positive electrode electrons in reaction': 1.0,\n",
       " 'Positive electrode exchange-current density [A.m-2]': <function nmc_LGM50_electrolyte_exchange_current_density_Chen2020 at 0x0000023B5901AD30>,\n",
       " 'Positive electrode porosity': 0.335,\n",
       " 'Positive electrode reaction-driven LAM factor [m3.mol-1]': 0.0,\n",
       " 'Positive electrode specific heat capacity [J.kg-1.K-1]': 700.0,\n",
       " 'Positive electrode thermal conductivity [W.m-1.K-1]': 2.1,\n",
       " 'Positive electrode thickness [m]': 7.56e-05,\n",
       " 'Positive particle radius [m]': 5.22e-06,\n",
       " 'Ratio of inner and outer SEI exchange current densities': 1.0,\n",
       " 'Reference temperature [K]': 298.15,\n",
       " 'SEI kinetic rate constant [m.s-1]': 1e-12,\n",
       " 'SEI open-circuit potential [V]': 0.4,\n",
       " 'SEI reaction exchange current density [A.m-2]': 1.5e-07,\n",
       " 'SEI resistivity [Ohm.m]': 200000.0,\n",
       " 'Separator Bruggeman coefficient (electrolyte)': 1.5,\n",
       " 'Separator density [kg.m-3]': 397.0,\n",
       " 'Separator porosity': 0.47,\n",
       " 'Separator specific heat capacity [J.kg-1.K-1]': 700.0,\n",
       " 'Separator thermal conductivity [W.m-1.K-1]': 0.16,\n",
       " 'Separator thickness [m]': 1.2e-05,\n",
       " 'Total heat transfer coefficient [W.m-2.K-1]': 10.0,\n",
       " 'Typical current [A]': 5.0,\n",
       " 'Typical electrolyte concentration [mol.m-3]': 1000.0,\n",
       " 'Upper voltage cut-off [V]': 4.2}"
      ]
     },
     "execution_count": 5,
     "metadata": {},
     "output_type": "execute_result"
    }
   ],
   "source": [
    "params"
   ]
  }
 ],
 "metadata": {
  "interpreter": {
   "hash": "8ea7e1266ad4100c2a98a86c01d67e60ef146b9b1b5436426a7ea3836db0d6eb"
  },
  "kernelspec": {
   "display_name": "Python 3.9.7 ('optimal-charging')",
   "language": "python",
   "name": "python3"
  },
  "language_info": {
   "codemirror_mode": {
    "name": "ipython",
    "version": 3
   },
   "file_extension": ".py",
   "mimetype": "text/x-python",
   "name": "python",
   "nbconvert_exporter": "python",
   "pygments_lexer": "ipython3",
   "version": "3.9.7"
  },
  "orig_nbformat": 4
 },
 "nbformat": 4,
 "nbformat_minor": 2
}

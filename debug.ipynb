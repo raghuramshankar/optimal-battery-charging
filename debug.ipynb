{
 "cells": [
  {
   "cell_type": "code",
   "execution_count": 27,
   "metadata": {},
   "outputs": [],
   "source": [
    "import numpy as np\n",
    "import pybamm\n",
    "import matplotlib.pyplot as plt"
   ]
  },
  {
   "cell_type": "code",
   "execution_count": 28,
   "metadata": {},
   "outputs": [],
   "source": [
    "model = pybamm.lithium_ion.DFN()\n",
    "params = pybamm.ParameterValues(\"Chen2020_plating\")"
   ]
  },
  {
   "cell_type": "code",
   "execution_count": 29,
   "metadata": {},
   "outputs": [
    {
     "name": "stdout",
     "output_type": "stream",
     "text": [
      "33133.0\n",
      "63104.0\n",
      "2.5\n",
      "4.2\n"
     ]
    }
   ],
   "source": [
    "print(params[\"Maximum concentration in negative electrode [mol.m-3]\"])\n",
    "print(params[\"Maximum concentration in positive electrode [mol.m-3]\"])\n",
    "print(params[\"Lower voltage cut-off [V]\"])\n",
    "print(params[\"Upper voltage cut-off [V]\"])"
   ]
  },
  {
   "cell_type": "code",
   "execution_count": null,
   "metadata": {},
   "outputs": [],
   "source": []
  }
 ],
 "metadata": {
  "interpreter": {
   "hash": "8ea7e1266ad4100c2a98a86c01d67e60ef146b9b1b5436426a7ea3836db0d6eb"
  },
  "kernelspec": {
   "display_name": "Python 3.9.7 ('optimal-charging')",
   "language": "python",
   "name": "python3"
  },
  "language_info": {
   "codemirror_mode": {
    "name": "ipython",
    "version": 3
   },
   "file_extension": ".py",
   "mimetype": "text/x-python",
   "name": "python",
   "nbconvert_exporter": "python",
   "pygments_lexer": "ipython3",
   "version": "3.9.7"
  },
  "orig_nbformat": 4
 },
 "nbformat": 4,
 "nbformat_minor": 2
}
